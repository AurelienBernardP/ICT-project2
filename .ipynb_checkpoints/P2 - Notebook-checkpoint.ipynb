{
 "cells": [
  {
   "cell_type": "markdown",
   "metadata": {
    "deletable": false,
    "editable": false,
    "id": "j7kUOJkq0GUo"
   },
   "source": [
    "# Project 2 - Source coding, data compression and channel coding\n",
    "\n",
    "The goal of this second project is to apply some of the principles seen in the lectures about source coding, data compression and channel coding. We ask you to write a brief report (pdf format) collecting your answers to the different questions. All codes must be written in Python inside this Jupyter. Note that you can not change the content of locked cells or import any extra Python library than the ones already imported (numpy)."
   ]
  },
  {
   "cell_type": "markdown",
   "metadata": {
    "deletable": false,
    "editable": false,
    "id": "Ztp8uLg40GUt"
   },
   "source": [
    "## Implementation\n",
    "\n",
    "In this project, you will need to use implement source coding algorithms to answer several questions. Therefore, in this first part, you are asked to write several functions that implement two of the  algorithms seen in the theoretical lectures and one new algorithm described in the project statement. Remember that you need to fill in this Jupyter Notebook to answer these questions. Pay particular attention to the required input and output format of each function."
   ]
  },
  {
   "cell_type": "code",
   "execution_count": 2,
   "metadata": {
    "deletable": false,
    "editable": false,
    "id": "Hj-l1-GY0GUu"
   },
   "outputs": [],
   "source": [
    "# [Locked Cell] You can not import any extra Python library in this Notebook.\n",
    "import numpy as np"
   ]
  },
  {
   "cell_type": "markdown",
   "metadata": {
    "deletable": false,
    "editable": false,
    "id": "B8U7YQaO0GUv"
   },
   "source": [
    "### Question 1\n",
    "Implement a function that returns a binary Huffman code for a given probability distribution. Give the main steps of your implementation. Verify your code on Exercise 7 of the second exercise session (TP2), and report the output of your code for this example. Explain how to extend your function to generate a Huffman code of any (output) alphabet size. \n"
   ]
  },
  {
   "cell_type": "code",
   "execution_count": 3,
   "metadata": {},
   "outputs": [
    {
     "name": "stdout",
     "output_type": "stream",
     "text": [
      "{'A': '1111', 'B': '1110', 'D': '110', 'C': '101', 'E': '100', 'F': '0'}\n"
     ]
    }
   ],
   "source": [
    "def Huffman_code(probability_dict):\n",
    "    \n",
    "    \n",
    "    values_dict = probability_dict.values()\n",
    "    values= list(values_dict)\n",
    "    values.sort() \n",
    "    n=len(values)\n",
    "    list_steps=(-1)*np.ones((n,n-1)) \n",
    "    \n",
    "    final_dict = probability_dict.copy() \n",
    "    \n",
    "    j=0 \n",
    "    i=0\n",
    "    compteur=0\n",
    "    for j in range (n):\n",
    "        if i<n:\n",
    "            for k in range(0,i+1):\n",
    "                list_steps[k][j]= 1\n",
    "            if i+1<n:\n",
    "                list_steps[i+1][j]=0\n",
    "            if compteur>0 and i+2<n:\n",
    "                list_steps[i+2][j]=0\n",
    "        i+=1\n",
    "        if len(values)>3:\n",
    "            new_sum= values[0] + values[1]\n",
    "            values[1] = round(new_sum, 3)\n",
    "            del values[0]\n",
    "            next_sum=values[1] + values[2]\n",
    "\n",
    "            if round(new_sum +values[1], 3)> next_sum:\n",
    "                compteur+=1\n",
    "                values[2]=round(next_sum, 3)\n",
    "                del values[1]\n",
    "                for k in range(i+1,i+2):\n",
    "                    list_steps[k][j]=1\n",
    "                list_steps[i+2][j]=0\n",
    "                if len(values)>2 and values[1]>values[2]:\n",
    "                    list_steps[[i,i+1]]=list_steps[[i+1,i]] \n",
    "                    i+=1\n",
    "                values.sort()\n",
    "                \n",
    "        if j==n-3:\n",
    "            for k in range(n):\n",
    "                list_steps[k][j]=1\n",
    "            list_steps[-1][j]=0\n",
    "            break\n",
    "            \n",
    "                    \n",
    "\n",
    "            \n",
    "    transitory=np.zeros(n)\n",
    "    \n",
    "    for i in range (n):\n",
    "        l=0\n",
    "        for j in range (n-1):\n",
    "            if list_steps[i][j]==1:\n",
    "                transitory[i]=transitory[i] + 2**l\n",
    "                l+=1\n",
    "            elif list_steps[i][j]==0:\n",
    "                l+=1\n",
    "           \n",
    "          \n",
    "    for i in range (n):\n",
    "        transitory[i]=format(int(transitory[i]), 'b')\n",
    "        \n",
    "    i=0\n",
    "    for key in final_dict.keys():\n",
    "        final_dict[key]=str(int(transitory[i]))\n",
    "        i+=1\n",
    "        \n",
    "    return final_dict\n",
    "\n",
    "    \n",
    "    \n",
    "\n",
    "final={\"A\": 0.05, \"B\":0.1,\"D\":0.15,\"C\":0.15, \"E\":0.2, \"F\":0.35}\n",
    "print(Huffman_code(final))"
   ]
  },
  {
   "cell_type": "markdown",
   "metadata": {
    "deletable": false,
    "editable": false,
    "id": "_KjzF5nZ0GUw"
   },
   "source": [
    "### Question 2\n",
    "\n",
    "Given a sequence of symbols, implement a function that returns a dictionary and the encoded sequence using the on-line Lempel-Ziv algorithm (see State of the art in data compression, slide 50/53). Reproduce and report the example given in the course. "
   ]
  },
  {
   "cell_type": "code",
   "execution_count": 4,
   "metadata": {
    "id": "dxyFyrmh0GUx"
   },
   "outputs": [
    {
     "data": {
      "text/plain": [
       "{'': (0, ''),\n",
       " '1': (1, '1'),\n",
       " '0': (2, '00'),\n",
       " '11': (3, '011'),\n",
       " '01': (4, '101'),\n",
       " '010': (5, '1000'),\n",
       " '00': (6, '0100'),\n",
       " '10': (7, '0010')}"
      ]
     },
     "execution_count": 4,
     "metadata": {},
     "output_type": "execute_result"
    }
   ],
   "source": [
    "def LZ_online(sequence):\n",
    "    list_symbols=[]\n",
    "    dictionary=dict()\n",
    "    dictionary['']=(0,'')\n",
    "    i=-1\n",
    "    j=0\n",
    "    for x in sequence:\n",
    "        i+=1\n",
    "        for j in range(1,len(sequence)):\n",
    "            word=sequence[i:i+j]\n",
    "            if word not in list_symbols:\n",
    "                list_symbols.append(word)\n",
    "                break\n",
    "        i+=j-1\n",
    "    list_symbols.remove('')\n",
    "    items=np.arange(1,len(list_symbols)+1)\n",
    "    binary=[]\n",
    "    number=[]\n",
    "    \n",
    "    for i in range(len(items)):\n",
    "        binary.append(format(items[i], '08b'))\n",
    "        number.append(int(np.ceil(np.log2(items[i]))))\n",
    "        \n",
    "    indice=0\n",
    "    for x in list_symbols:\n",
    "        if len(x)<=1:\n",
    "            nb=number[indice]\n",
    "            if nb==0:\n",
    "                dictionary[x]=(items[indice],x)\n",
    "            else:\n",
    "                dictionary[x]=(items[indice],\"0\"+x)\n",
    "           \n",
    "        else:\n",
    "            prefix=x[:-1]\n",
    "            ind=list_symbols.index(prefix)\n",
    "            dictionary[x]=(items[indice], str((binary)[ind])[-number[indice]:]+x[-1])\n",
    "        indice+=1\n",
    "\n",
    "        \n",
    "           \n",
    "            \n",
    "\n",
    "    return dictionary\n",
    "\n",
    "LZ_online(\"1011010100010\")                "
   ]
  },
  {
   "cell_type": "markdown",
   "metadata": {
    "deletable": false,
    "editable": false,
    "id": "UG7cwbf50GUx"
   },
   "source": [
    "### Question 4\n",
    "\n",
    "Implement a function that returns the encoded sequence using the LZ77 algorithm as described by the algorithm below given an input string and a sliding window size l. Reproduce the example given in Figure 2 with window_size=7."
   ]
  },
  {
   "cell_type": "code",
   "execution_count": 5,
   "metadata": {},
   "outputs": [
    {
     "data": {
      "text/plain": [
       "\"(0, 0, 'a')(0, 0, 'b')(0, 0, 'r')(3, 1, 'c')(2, 1, 'd')(7, 4, 'd')\""
      ]
     },
     "execution_count": 5,
     "metadata": {},
     "output_type": "execute_result"
    }
   ],
   "source": [
    "def LZ77(sequence, window_size=7):\n",
    "    input_size=len(sequence)-window_size\n",
    "    input=sequence[:input_size]\n",
    "    sliding=\"\"\n",
    "    sliding_size=window_size\n",
    "    encoded=[]\n",
    "    i=1\n",
    "    while(len(input)>0):\n",
    "        prefix=input\n",
    "        while prefix not in sliding and len(prefix)>0:\n",
    "            prefix=prefix[:-1]\n",
    "        \n",
    "        if prefix in sliding and len(prefix)>0:\n",
    "            d=sliding_size-(len(sliding) - sliding[::-1].index(prefix[::-1]) - len(prefix))\n",
    "            p=len(prefix)\n",
    "            c=input[p]\n",
    "        else:\n",
    "            d=0\n",
    "            p=0\n",
    "            c=input[0]\n",
    "        i+=1\n",
    "        encoded.append((d,p,c))\n",
    "        for y in range(p+1):\n",
    "            sliding= sliding + input[y]\n",
    "        sliding_size=len(sliding)\n",
    "        input=sequence[sliding_size:input_size+sliding_size]\n",
    "    return \"\".join([str(_) for _ in encoded]) #is it the right format? \n",
    "        \n",
    "\n",
    "LZ77(\"abracadabrad\", window_size=7)       \n",
    "    "
   ]
  },
  {
   "cell_type": "code",
   "execution_count": 50,
   "metadata": {
    "deletable": false,
    "editable": false,
    "id": "EG1vVgUg0GUz"
   },
   "outputs": [],
   "source": [
    "# [Locked Cell] Evaluation of your functions by the examiner. \n",
    "# You don't have access to the evaluation, this will be done by the examiner.\n",
    "# Therefore, this cell will return nothing for the students.\n",
    "import os\n",
    "if os.path.isfile(\"private_evaluation.py\"):\n",
    "    from private_evaluation import unit_tests\n",
    "    unit_tests(Huffman_code, LZ_online, LZ77)"
   ]
  },
  {
   "cell_type": "markdown",
   "metadata": {
    "deletable": false,
    "editable": false,
    "id": "znaBCYTG0GU0"
   },
   "source": [
    "## Source coding and reversible (lossless) data compression\n"
   ]
  },
  {
   "cell_type": "code",
   "execution_count": 1,
   "metadata": {
    "id": "-F_fTEp10GU0"
   },
   "outputs": [
    {
     "ename": "FileNotFoundError",
     "evalue": "[Errno 2] No such file or directory: 'morse.txt'",
     "output_type": "error",
     "traceback": [
      "\u001b[0;31m---------------------------------------------------------------------------\u001b[0m",
      "\u001b[0;31mFileNotFoundError\u001b[0m                         Traceback (most recent call last)",
      "\u001b[0;32m/tmp/ipykernel_23469/1160090580.py\u001b[0m in \u001b[0;36m<module>\u001b[0;34m\u001b[0m\n\u001b[1;32m      5\u001b[0m \u001b[0;31m#Opening the files and put them into one line string\u001b[0m\u001b[0;34m\u001b[0m\u001b[0;34m\u001b[0m\u001b[0m\n\u001b[1;32m      6\u001b[0m \u001b[0mmorse_text\u001b[0m \u001b[0;34m=\u001b[0m \u001b[0;34m''\u001b[0m\u001b[0;34m\u001b[0m\u001b[0;34m\u001b[0m\u001b[0m\n\u001b[0;32m----> 7\u001b[0;31m \u001b[0;32mwith\u001b[0m \u001b[0mopen\u001b[0m\u001b[0;34m(\u001b[0m\u001b[0;34m'morse.txt'\u001b[0m\u001b[0;34m,\u001b[0m \u001b[0;34m'r'\u001b[0m\u001b[0;34m)\u001b[0m \u001b[0;32mas\u001b[0m \u001b[0mfile\u001b[0m\u001b[0;34m:\u001b[0m\u001b[0;34m\u001b[0m\u001b[0;34m\u001b[0m\u001b[0m\n\u001b[0m\u001b[1;32m      8\u001b[0m     \u001b[0mmorse_text\u001b[0m \u001b[0;34m=\u001b[0m \u001b[0mfile\u001b[0m\u001b[0;34m.\u001b[0m\u001b[0mread\u001b[0m\u001b[0;34m(\u001b[0m\u001b[0;34m)\u001b[0m\u001b[0;34m.\u001b[0m\u001b[0mreplace\u001b[0m\u001b[0;34m(\u001b[0m\u001b[0;34m'\\n'\u001b[0m\u001b[0;34m,\u001b[0m \u001b[0;34m''\u001b[0m\u001b[0;34m)\u001b[0m\u001b[0;34m\u001b[0m\u001b[0;34m\u001b[0m\u001b[0m\n\u001b[1;32m      9\u001b[0m \u001b[0;34m\u001b[0m\u001b[0m\n",
      "\u001b[0;31mFileNotFoundError\u001b[0m: [Errno 2] No such file or directory: 'morse.txt'"
     ]
    }
   ],
   "source": [
    "#import pyplot to make plots for questions like question 7\n",
    "from matplotlib import pyplot as plt\n",
    "\n",
    "\n",
    "#Opening the files and put them into one line string\n",
    "morse_text = ''\n",
    "with open('morse.txt', 'r') as file:\n",
    "    morse_text = file.read().replace('\\n', '')\n",
    "\n",
    "original_text = ''\n",
    "with open('text.txt', 'r') as file:\n",
    "    original_text = file.read().replace('\\n', '')\n",
    "\n",
    "############### Q5 \n",
    "\n",
    "morse_occurency_dict = {}\n",
    "\n",
    "#loop over text and count occurrences.\n",
    "for i in morse_text:\n",
    "    if i in morse_occurency_dict:\n",
    "        morse_occurency_dict[i] = morse_occurency_dict[i] + 1\n",
    "    else:\n",
    "        morse_occurency_dict[i] = 1\n",
    "\n",
    "\n",
    "#loop over symbols to compute their probability approximation\n",
    "morse_proba_dict = {}\n",
    "for i in morse_occurency_dict:\n",
    "    morse_proba_dict[i] = morse_occurency_dict[i]/len(morse_text)\n",
    "    print(\"Probability of symbol '\" + i + \"' is =\" + str(morse_proba_dict[i]))\n",
    "\n",
    "#get huffman code\n",
    "morse_text_bin_code = Huffman_code(morse_proba_dict)\n",
    "print(\"bin huffman code for morse text : \" + str(morse_text_bin_code))\n",
    "\n",
    "coded_text = []\n",
    "for i in morse_text:\n",
    "    coded_text.append(morse_text_bin_code[i])\n",
    "\n",
    "print('Morse text length = ' + str(len(morse_text)))\n",
    "print('Using the huffman code the compression rate is :' + str(len(coded_text)/len(morse_text)))\n",
    "print('Coded text length = ' + str(len(coded_text)))\n",
    "\n",
    "##################### Q6\n",
    " \n",
    " #weighted average length of huffman code\n",
    "\n",
    "expected_average_code_len = 0.0\n",
    "for i in morse_text_bin_code:\n",
    "    expected_average_code_len += morse_proba_dict[i] * len(morse_text_bin_code[i])\n",
    "\n",
    "print('The expected average code length of the produced huffman code is =' + str(expected_average_code_len))\n",
    "\n",
    "empirical_average_code_len = len(morse_proba_dict)/len(coded_text)\n",
    "\n",
    "print('The empirical average code length of the produced huffman code is =' + str(expected_average_code_len))\n",
    "\n",
    "#theoretical bound is \n",
    "theoretical_bound = 0.0\n",
    "for i in morse_proba_dict:\n",
    "    theoretical_bound += morse_proba_dict[i] * np.log2(morse_proba_dict[i])\n",
    "\n",
    "print('The bound for the average length is  =' + str(theoretical_bound))\n",
    "\n",
    "###################### Q7\n",
    "\n",
    "\n",
    "emp_averages_code_lengths = np.zeros((len(morse_text)))\n",
    "\n",
    "for i in range(1,len(morse_text)):\n",
    "    code = []\n",
    "    for j in morse_text[0:i]:\n",
    "        code.append(morse_text_bin_code[j])\n",
    "\n",
    "    emp_averages_code_lengths[i] = len(morse_proba_dict)/len(code)\n",
    "\n",
    "\n",
    "plt.plot(np.arange(len(morse_text)),emp_averages_code_lengths)\n",
    "\n",
    "##################### Q8\n",
    "\n",
    "lempel_ziv_coded_morse = LZ_online(morse_text)\n",
    "\n",
    "print('Length of lempel-ziv compressed code is :' + str(len(lempel_ziv_coded_morse)))\n",
    "print('The compression rate of the Lempel-ziv method is =' + str(len(lempel_ziv_coded_morse)/len(morse_text)))\n",
    "\n",
    "##################### Q9\n",
    "lz77_coded_morse = LZ77(morse_text,7)\n",
    "\n",
    "print('Length of LZ77 compressed code is :' + str(len(lz77_coded_morse)))\n",
    "print('The compression rate of the LZ77 method is =' + str(len(lz77_coded_morse)/len(morse_text)))\n",
    "\n",
    "###################### Q10\n",
    "\n",
    "#first way : apply huffman to get code and then, LZ77 to get smaller code\n",
    "    # main advantage, replace long coded symbols that may happen often by just two numerical symbols. More advantageous when high entropy in text\n",
    "\n",
    "#second way : LZ77 and then huffman on the pairs (x,y) and original symbols\n",
    "    # main advantage if the repetition of prefixes are mainly close toguether it reduces the code from a numeric pair to a couple of bits. more advantageous when low entropy in text.\n",
    "\n",
    "###################### Q11\n",
    "\n"
   ]
  },
  {
   "cell_type": "markdown",
   "metadata": {
    "id": "arr1rcE65c6K"
   },
   "source": [
    "## Channel coding"
   ]
  },
  {
   "cell_type": "code",
   "execution_count": null,
   "metadata": {
    "id": "ZLwLdqlh5qE5"
   },
   "outputs": [],
   "source": [
    "# Write here your codes for questions 16 to 21 (you may delete this comment)\n",
    "# From here, you may import either opencv (cv2) or the Python Imaging Library (PIL), but no other extra libraries."
   ]
  }
 ],
 "metadata": {
  "celltoolbar": "Edit Metadata",
  "colab": {
   "collapsed_sections": [],
   "name": "P2 - Notebook.ipynb",
   "provenance": []
  },
  "kernelspec": {
   "display_name": "Python 3",
   "language": "python",
   "name": "python3"
  },
  "language_info": {
   "codemirror_mode": {
    "name": "ipython",
    "version": 3
   },
   "file_extension": ".py",
   "mimetype": "text/x-python",
   "name": "python",
   "nbconvert_exporter": "python",
   "pygments_lexer": "ipython3",
   "version": "3.9.7"
  }
 },
 "nbformat": 4,
 "nbformat_minor": 1
}
