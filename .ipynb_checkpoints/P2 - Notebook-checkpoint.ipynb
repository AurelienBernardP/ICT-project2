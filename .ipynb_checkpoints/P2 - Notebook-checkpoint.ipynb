{
 "cells": [
  {
   "cell_type": "markdown",
   "metadata": {
    "deletable": false,
    "editable": false,
    "id": "j7kUOJkq0GUo"
   },
   "source": [
    "# Project 2 - Source coding, data compression and channel coding\n",
    "\n",
    "The goal of this second project is to apply some of the principles seen in the lectures about source coding, data compression and channel coding. We ask you to write a brief report (pdf format) collecting your answers to the different questions. All codes must be written in Python inside this Jupyter. Note that you can not change the content of locked cells or import any extra Python library than the ones already imported (numpy)."
   ]
  },
  {
   "cell_type": "markdown",
   "metadata": {
    "deletable": false,
    "editable": false,
    "id": "Ztp8uLg40GUt"
   },
   "source": [
    "## Implementation\n",
    "\n",
    "In this project, you will need to use implement source coding algorithms to answer several questions. Therefore, in this first part, you are asked to write several functions that implement two of the  algorithms seen in the theoretical lectures and one new algorithm described in the project statement. Remember that you need to fill in this Jupyter Notebook to answer these questions. Pay particular attention to the required input and output format of each function."
   ]
  },
  {
   "cell_type": "code",
   "execution_count": 2,
   "metadata": {
    "deletable": false,
    "editable": false,
    "id": "Hj-l1-GY0GUu"
   },
   "outputs": [],
   "source": [
    "# [Locked Cell] You can not import any extra Python library in this Notebook.\n",
    "import numpy as np"
   ]
  },
  {
   "cell_type": "markdown",
   "metadata": {
    "deletable": false,
    "editable": false,
    "id": "B8U7YQaO0GUv"
   },
   "source": [
    "### Question 1\n",
    "Implement a function that returns a binary Huffman code for a given probability distribution. Give the main steps of your implementation. Verify your code on Exercise 7 of the second exercise session (TP2), and report the output of your code for this example. Explain how to extend your function to generate a Huffman code of any (output) alphabet size. \n"
   ]
  },
  {
   "cell_type": "code",
   "execution_count": 5,
   "metadata": {
    "id": "Ale82t7g0GUw"
   },
   "outputs": [
    {
     "data": {
      "text/plain": [
       "'\\n    Create the Huffman code for given probabilities  \\n    \\n    Arguments:\\n    ----------\\n    probability_dict:\\n      - keys: symbol as character or string\\n      - values: probability of the symbol as a float or double\\n      Example: {\"A\": 0.25, \"B\":0.5,\"C\":0.125,\"D\":0.125}\\n    \\n    Return:\\n    -------\\n    - codewords: dictionary with the name and the corresponding codeword \\n      - keys: symbol as character or string\\n      - values: associated codeword as a character or a string    \\n      Example: {\"A\": \"10\", \"B\":\"0\",\"C\":\"111\",\"D\":\"110\"}\\n\\n    '"
      ]
     },
     "execution_count": 5,
     "metadata": {},
     "output_type": "execute_result"
    }
   ],
   "source": [
    "\"\"\"\n",
    "    Create the Huffman code for given probabilities  \n",
    "    \n",
    "    Arguments:\n",
    "    ----------\n",
    "    probability_dict:\n",
    "      - keys: symbol as character or string\n",
    "      - values: probability of the symbol as a float or double\n",
    "      Example: {\"A\": 0.25, \"B\":0.5,\"C\":0.125,\"D\":0.125}\n",
    "    \n",
    "    Return:\n",
    "    -------\n",
    "    - codewords: dictionary with the name and the corresponding codeword \n",
    "      - keys: symbol as character or string\n",
    "      - values: associated codeword as a character or a string    \n",
    "      Example: {\"A\": \"10\", \"B\":\"0\",\"C\":\"111\",\"D\":\"110\"}\n",
    "\n",
    "    \"\"\" \n",
    "\n",
    "\n"
   ]
  },
  {
   "cell_type": "code",
   "execution_count": 61,
   "metadata": {},
   "outputs": [
    {
     "name": "stdout",
     "output_type": "stream",
     "text": [
      "[0.2, 0.1, 0.2, 0.2, 0.3]\n",
      "[0.30000000000000004, 0.2, 0.2, 0.3]\n",
      "[0.5, 0.2, 0.3]\n",
      "[0.7, 0.3]\n",
      "[1.0]\n",
      "[1. 0. 0. 0. 0. 0.]\n",
      "[3. 0. 0. 0. 0. 0.]\n",
      "[7. 0. 0. 0. 0. 0.]\n",
      "[15.  0.  0.  0.  0.  0.]\n",
      "[31.  0.  0.  0.  0.  0.]\n",
      "[63.  0.  0.  0.  0.  0.]\n",
      "[63.  0.  0.  0.  0.  0.]\n",
      "[ 63. 128.   0.   0.   0.   0.]\n",
      "[ 63. 384.   0.   0.   0.   0.]\n",
      "[ 63. 896.   0.   0.   0.   0.]\n",
      "[  63. 1920.    0.    0.    0.    0.]\n",
      "[  63. 1920.    0.    0.    0.    0.]\n",
      "[  63. 1920.    0.    0.    0.    0.]\n",
      "[  63. 1920.    0.    0.    0.    0.]\n",
      "[  63. 1920. 4096.    0.    0.    0.]\n",
      "[   63.  1920. 12288.     0.     0.     0.]\n",
      "[   63.  1920. 28672.     0.     0.     0.]\n",
      "[   63.  1920. 28672.     0.     0.     0.]\n",
      "[   63.  1920. 28672.     0.     0.     0.]\n",
      "[   63.  1920. 28672.     0.     0.     0.]\n",
      "[   63.  1920. 28672.     0.     0.     0.]\n",
      "[6.3000e+01 1.9200e+03 2.8672e+04 6.5536e+04 0.0000e+00 0.0000e+00]\n",
      "[6.30000e+01 1.92000e+03 2.86720e+04 1.96608e+05 0.00000e+00 0.00000e+00]\n",
      "[6.30000e+01 1.92000e+03 2.86720e+04 1.96608e+05 0.00000e+00 0.00000e+00]\n",
      "[6.30000e+01 1.92000e+03 2.86720e+04 1.96608e+05 0.00000e+00 0.00000e+00]\n",
      "[6.30000e+01 1.92000e+03 2.86720e+04 1.96608e+05 0.00000e+00 0.00000e+00]\n",
      "[6.30000e+01 1.92000e+03 2.86720e+04 1.96608e+05 0.00000e+00 0.00000e+00]\n",
      "[6.30000e+01 1.92000e+03 2.86720e+04 1.96608e+05 0.00000e+00 0.00000e+00]\n",
      "[6.30000e+01 1.92000e+03 2.86720e+04 1.96608e+05 5.24288e+05 0.00000e+00]\n",
      "[6.30000e+01 1.92000e+03 2.86720e+04 1.96608e+05 5.24288e+05 0.00000e+00]\n",
      "[6.30000e+01 1.92000e+03 2.86720e+04 1.96608e+05 5.24288e+05 0.00000e+00]\n",
      "[6.30000e+01 1.92000e+03 2.86720e+04 1.96608e+05 5.24288e+05 0.00000e+00]\n",
      "[6.30000e+01 1.92000e+03 2.86720e+04 1.96608e+05 5.24288e+05 0.00000e+00]\n",
      "[6.30000e+01 1.92000e+03 2.86720e+04 1.96608e+05 5.24288e+05 0.00000e+00]\n",
      "[6.30000e+01 1.92000e+03 2.86720e+04 1.96608e+05 5.24288e+05 0.00000e+00]\n",
      "[6.30000e+01 1.92000e+03 2.86720e+04 1.96608e+05 5.24288e+05 0.00000e+00]\n",
      "[111111.   1920.  28672. 196608. 524288.      0.]\n",
      "[1.11111e+05 1.11100e+10 2.86720e+04 1.96608e+05 5.24288e+05 0.00000e+00]\n",
      "[1.11111e+05 1.11100e+10 1.11000e+14 1.96608e+05 5.24288e+05 0.00000e+00]\n",
      "[1.11111e+05 1.11100e+10 1.11000e+14 1.10000e+17 5.24288e+05 0.00000e+00]\n",
      "[1.11111e+05 1.11100e+10 1.11000e+14 1.10000e+17 1.00000e+19 0.00000e+00]\n",
      "[1.11111e+05 1.11100e+10 1.11000e+14 1.10000e+17 1.00000e+19 0.00000e+00]\n",
      "{'A': 111111, 'B': 0.1, 'C': 0.2, 'D': 0.1, 'E': 0.2, 'F': 0.1}\n",
      "{'A': 111111, 'B': 11110000000, 'C': 0.2, 'D': 0.1, 'E': 0.2, 'F': 0.1}\n",
      "{'A': 111111, 'B': 11110000000, 'C': 111000000000000, 'D': 0.1, 'E': 0.2, 'F': 0.1}\n",
      "{'A': 111111, 'B': 11110000000, 'C': 111000000000000, 'D': 110000000000000000, 'E': 0.2, 'F': 0.1}\n",
      "{'A': 111111, 'B': 11110000000, 'C': 111000000000000, 'D': 110000000000000000, 'E': 10000000000000000000, 'F': 0.1}\n",
      "{'A': 111111, 'B': 11110000000, 'C': 111000000000000, 'D': 110000000000000000, 'E': 10000000000000000000, 'F': 0}\n",
      "(array([[ 1.,  1.,  1.,  1.,  1.,  1.],\n",
      "       [ 0.,  1.,  1.,  1.,  1., -1.],\n",
      "       [-1.,  0.,  1.,  1.,  1., -1.],\n",
      "       [-1., -1.,  0.,  1.,  1., -1.],\n",
      "       [-1., -1., -1.,  0.,  1., -1.],\n",
      "       [-1., -1., -1., -1.,  0., -1.]]), 1.0, [1.0])\n"
     ]
    }
   ],
   "source": [
    "\n",
    "\n",
    "\n",
    "\n",
    "def Huffman_code(probability_dict):\n",
    "    \n",
    "    #final_dict={\"A\":,\"B\":,\"C\";\"D\":}\n",
    "    \n",
    "    values_dict = probability_dict.values()\n",
    "    values= list(values_dict)\n",
    "    values.sort() # nouvelle liste, valeurs rangées dans l'ordre croissant\n",
    "    n=len(values)\n",
    "    list_steps=(-1)*np.ones((n,n)) #on remplit chaque  ligne avec des 0 ou des 1 ou on laisse -1\n",
    "    \n",
    "    final_dict = probability_dict.copy() #ce qui doit être renvoyé selon les consignes\n",
    "    \n",
    "    j=0 #changer en \"for j tel que la somme ne vaut pas encore 1\"\n",
    "    i=0   \n",
    "   # for i in range(0,n-2, 2): #on implémente les cas classiques\n",
    "    for j in range (n-1):\n",
    "        new_sum= values[0] + values[1]\n",
    "        values[1] = new_sum\n",
    "        del values[0]\n",
    "        print(values)\n",
    "            \n",
    "        if i<n:\n",
    "            for k in range(0,i+1):\n",
    "                list_steps[k][j]= 1\n",
    "            list_steps[i+1][j]=0\n",
    "        i+=1\n",
    "    list_steps[0][n-1]= 1\n",
    "    \n",
    "    \n",
    "        \n",
    "    while len(values)>2:\n",
    "        next_sum=values[2] + values[3]\n",
    "\n",
    "        if new_sum + values[2] > next_sum:\n",
    "            values[3]=next_sum\n",
    "            del values[2]\n",
    "            for k in range(i+1,i+3):\n",
    "                list_steps[k][j]=1\n",
    "            list_steps[k][j]=0\n",
    "            values.sort()\n",
    "            \n",
    "    transitoire=np.zeros(n)\n",
    "    \n",
    "    for i in range (n):\n",
    "        l=0\n",
    "        for j in range (n):\n",
    "            if list_steps[i][j]==1:\n",
    "                transitoire[i]=transitoire[i] + 2**l\n",
    "                l+=1\n",
    "            elif list_steps[i][j]==0:\n",
    "                l+=1\n",
    "            print(transitoire)\n",
    "          \n",
    "    for i in range (n):\n",
    "        transitoire[i]=format(int(transitoire[i]), 'b')\n",
    "        print(transitoire)\n",
    "        \n",
    "        #final_dict[probability_dict[i]] = transitoire[i]\n",
    "    i=0\n",
    "    for key in final_dict.keys():\n",
    "        final_dict[key]=int(transitoire[i])\n",
    "        print(final_dict)\n",
    "        i+=1\n",
    "        \n",
    "    return list_steps, new_sum, values\n",
    "\n",
    "    \n",
    "\"\"\"    for j in range (n-3): #traverse toutes les valeurs du dictionnaire\n",
    "        easy_sum= proba_dict[j][0] + proba_dict[j+1][0]\n",
    "        \n",
    "        next_sum=proba_dict[j+2][0] + proba_dict[j+3][0] #à faire juste avant de passer au step suivant\n",
    "        if easy_sum + proba_dict[j+2][0] > next_sum: \n",
    "            return 0\n",
    "        else: \n",
    "            #reiterate ... \n",
    "            \n",
    "    \n",
    "    return (list_steps)\"\"\"\n",
    "    \n",
    "    \n",
    "\n",
    "final={\"A\": 0.3, \"B\":0.1,\"C\":0.2,\"D\":0.1, \"E\":0.2, \"F\":0.1}\n",
    "print(Huffman_code(final))\n"
   ]
  },
  {
   "cell_type": "markdown",
   "metadata": {
    "deletable": false,
    "editable": false,
    "id": "_KjzF5nZ0GUw"
   },
   "source": [
    "### Question 2\n",
    "\n",
    "Given a sequence of symbols, implement a function that returns a dictionary and the encoded sequence using the on-line Lempel-Ziv algorithm (see State of the art in data compression, slide 50/53). Reproduce and report the example given in the course. "
   ]
  },
  {
   "cell_type": "code",
   "execution_count": null,
   "metadata": {
    "id": "dxyFyrmh0GUx"
   },
   "outputs": [],
   "source": [
    "\n",
    "def LZ_online(sequence):\n",
    "    \"\"\"\n",
    "    The on-line Lempel-Ziv algorithm given a sequence of symbols  \n",
    "    Arguments:\n",
    "    ----------\n",
    "    - sequence : Sequence of symbols in the string format\n",
    "    \n",
    "    Return:\n",
    "    -------\n",
    "    - dictionary : the computed dictionnary in the form:\n",
    "        - keys: symbol as character or string\n",
    "        - values: associated codeword as a tuple composed of the entry index (integer) and a binarized adress with one appended symbol (character or string)\n",
    "        Example: {'': (0, ''), '0': (1, '0'), '1': (2, '01'), '00': (3, '010'), '10': (4, '100')}\n",
    "    - encoded_sequence : the encoded sequence in the string format\n",
    "    \"\"\""
   ]
  },
  {
   "cell_type": "markdown",
   "metadata": {
    "deletable": false,
    "editable": false,
    "id": "UG7cwbf50GUx"
   },
   "source": [
    "### Question 4\n",
    "\n",
    "Implement a function that returns the encoded sequence using the LZ77 algorithm as described by the algorithm below given an input string and a sliding window size l. Reproduce the example given in Figure 2 with window_size=7."
   ]
  },
  {
   "cell_type": "code",
   "execution_count": null,
   "metadata": {
    "id": "aHoBHPcL0GUy"
   },
   "outputs": [],
   "source": [
    "def LZ77(sequence, window_size=7):\n",
    "    \"\"\"\n",
    "    The Lempel-Ziv 77 algorithm given a sequence of symbols and the sliding window size\n",
    "    \n",
    "    Arguments:\n",
    "    ----------\n",
    "    - sequence : Sequence of symbols in the string format\n",
    "    - window_size : sliding window size as an integer\n",
    "    \n",
    "    Return:\n",
    "    -------\n",
    "    - encoded_sequence : the encoded sequence in the string format\n",
    "    \"\"\""
   ]
  },
  {
   "cell_type": "code",
   "execution_count": null,
   "metadata": {
    "deletable": false,
    "editable": false,
    "id": "EG1vVgUg0GUz"
   },
   "outputs": [],
   "source": [
    "# [Locked Cell] Evaluation of your functions by the examiner. \n",
    "# You don't have access to the evaluation, this will be done by the examiner.\n",
    "# Therefore, this cell will return nothing for the students.\n",
    "import os\n",
    "if os.path.isfile(\"private_evaluation.py\"):\n",
    "    from private_evaluation import unit_tests\n",
    "    unit_tests(Huffman_code, LZ_online, LZ77)"
   ]
  },
  {
   "cell_type": "markdown",
   "metadata": {
    "deletable": false,
    "editable": false,
    "id": "znaBCYTG0GU0"
   },
   "source": [
    "## Source coding and reversible (lossless) data compression\n"
   ]
  },
  {
   "cell_type": "code",
   "execution_count": null,
   "metadata": {
    "id": "-F_fTEp10GU0"
   },
   "outputs": [],
   "source": [
    "# Write here your codes for questions 5 to 15 (you may delete this comment)"
   ]
  },
  {
   "cell_type": "markdown",
   "metadata": {
    "id": "arr1rcE65c6K"
   },
   "source": [
    "## Channel coding"
   ]
  },
  {
   "cell_type": "code",
   "execution_count": null,
   "metadata": {
    "id": "ZLwLdqlh5qE5"
   },
   "outputs": [],
   "source": [
    "# Write here your codes for questions 16 to 21 (you may delete this comment)\n",
    "# From here, you may import either opencv (cv2) or the Python Imaging Library (PIL), but no other extra libraries."
   ]
  }
 ],
 "metadata": {
  "celltoolbar": "Edit Metadata",
  "colab": {
   "collapsed_sections": [],
   "name": "P2 - Notebook.ipynb",
   "provenance": []
  },
  "kernelspec": {
   "display_name": "Python 3",
   "language": "python",
   "name": "python3"
  },
  "language_info": {
   "codemirror_mode": {
    "name": "ipython",
    "version": 3
   },
   "file_extension": ".py",
   "mimetype": "text/x-python",
   "name": "python",
   "nbconvert_exporter": "python",
   "pygments_lexer": "ipython3",
   "version": "3.8.5"
  }
 },
 "nbformat": 4,
 "nbformat_minor": 1
}
