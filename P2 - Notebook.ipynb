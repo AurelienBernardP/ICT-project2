{
 "cells": [
  {
   "cell_type": "markdown",
   "metadata": {
    "deletable": false,
    "editable": false,
    "id": "j7kUOJkq0GUo"
   },
   "source": [
    "# Project 2 - Source coding, data compression and channel coding\n",
    "\n",
    "The goal of this second project is to apply some of the principles seen in the lectures about source coding, data compression and channel coding. We ask you to write a brief report (pdf format) collecting your answers to the different questions. All codes must be written in Python inside this Jupyter. Note that you can not change the content of locked cells or import any extra Python library than the ones already imported (numpy)."
   ]
  },
  {
   "cell_type": "markdown",
   "metadata": {
    "deletable": false,
    "editable": false,
    "id": "Ztp8uLg40GUt"
   },
   "source": [
    "## Implementation\n",
    "\n",
    "In this project, you will need to use implement source coding algorithms to answer several questions. Therefore, in this first part, you are asked to write several functions that implement two of the  algorithms seen in the theoretical lectures and one new algorithm described in the project statement. Remember that you need to fill in this Jupyter Notebook to answer these questions. Pay particular attention to the required input and output format of each function."
   ]
  },
  {
   "cell_type": "code",
   "execution_count": 3,
   "metadata": {
    "deletable": false,
    "editable": false,
    "id": "Hj-l1-GY0GUu"
   },
   "outputs": [],
   "source": [
    "# [Locked Cell] You can not import any extra Python library in this Notebook.\n",
    "import numpy as np"
   ]
  },
  {
   "cell_type": "markdown",
   "metadata": {
    "deletable": false,
    "editable": false,
    "id": "B8U7YQaO0GUv"
   },
   "source": [
    "### Question 1\n",
    "Implement a function that returns a binary Huffman code for a given probability distribution. Give the main steps of your implementation. Verify your code on Exercise 7 of the second exercise session (TP2), and report the output of your code for this example. Explain how to extend your function to generate a Huffman code of any (output) alphabet size. \n"
   ]
  },
  {
   "cell_type": "code",
   "execution_count": null,
   "metadata": {
    "id": "Ale82t7g0GUw"
   },
   "outputs": [],
   "source": [
    "def Huffman_code(probability_dict):\n",
    "    \"\"\"\n",
    "    Create the Huffman code for given probabilities  \n",
    "    \n",
    "    Arguments:\n",
    "    ----------\n",
    "    probability_dict:\n",
    "      - keys: symbol as character or string\n",
    "      - values: probability of the symbol as a float or double\n",
    "      Example: {\"A\": 0.25, \"B\":0.5,\"C\":0.125,\"D\":0.125}\n",
    "    \n",
    "    Return:\n",
    "    -------\n",
    "    - codewords: dictionary with the name and the corresponding codeword \n",
    "      - keys: symbol as character or string\n",
    "      - values: associated codeword as a character or a string    \n",
    "      Example: {\"A\": \"10\", \"B\":\"0\",\"C\":\"111\",\"D\":\"110\"}\n",
    "    \n",
    "    \"\"\"  "
   ]
  },
  {
   "cell_type": "markdown",
   "metadata": {
    "deletable": false,
    "editable": false,
    "id": "_KjzF5nZ0GUw"
   },
   "source": [
    "### Question 2\n",
    "\n",
    "Given a sequence of symbols, implement a function that returns a dictionary and the encoded sequence using the on-line Lempel-Ziv algorithm (see State of the art in data compression, slide 50/53). Reproduce and report the example given in the course. "
   ]
  },
  {
   "cell_type": "code",
   "execution_count": null,
   "metadata": {
    "id": "dxyFyrmh0GUx"
   },
   "outputs": [],
   "source": [
    "\n",
    "def LZ_online(sequence):\n",
    "    \"\"\"\n",
    "    The on-line Lempel-Ziv algorithm given a sequence of symbols  \n",
    "    Arguments:\n",
    "    ----------\n",
    "    - sequence : Sequence of symbols in the string format\n",
    "    \n",
    "    Return:\n",
    "    -------\n",
    "    - dictionary : the computed dictionnary in the form:\n",
    "        - keys: symbol as character or string\n",
    "        - values: associated codeword as a tuple composed of the entry index (integer) and a binarized adress with one appended symbol (character or string)\n",
    "        Example: {'': (0, ''), '0': (1, '0'), '1': (2, '01'), '00': (3, '010'), '10': (4, '100')}\n",
    "    - encoded_sequence : the encoded sequence in the string format\n",
    "    \"\"\""
   ]
  },
  {
   "cell_type": "markdown",
   "metadata": {
    "deletable": false,
    "editable": false,
    "id": "UG7cwbf50GUx"
   },
   "source": [
    "### Question 4\n",
    "\n",
    "Implement a function that returns the encoded sequence using the LZ77 algorithm as described by the algorithm below given an input string and a sliding window size l. Reproduce the example given in Figure 2 with window_size=7."
   ]
  },
  {
   "cell_type": "code",
   "execution_count": null,
   "metadata": {
    "id": "aHoBHPcL0GUy"
   },
   "outputs": [],
   "source": [
    "def LZ77(sequence, window_size=7):\n",
    "    \"\"\"\n",
    "    The Lempel-Ziv 77 algorithm given a sequence of symbols and the sliding window size\n",
    "    \n",
    "    Arguments:\n",
    "    ----------\n",
    "    - sequence : Sequence of symbols in the string format\n",
    "    - window_size : sliding window size as an integer\n",
    "    \n",
    "    Return:\n",
    "    -------\n",
    "    - encoded_sequence : the encoded sequence in the string format\n",
    "    \"\"\""
   ]
  },
  {
   "cell_type": "code",
   "execution_count": null,
   "metadata": {
    "deletable": false,
    "editable": false,
    "id": "EG1vVgUg0GUz"
   },
   "outputs": [],
   "source": [
    "# [Locked Cell] Evaluation of your functions by the examiner. \n",
    "# You don't have access to the evaluation, this will be done by the examiner.\n",
    "# Therefore, this cell will return nothing for the students.\n",
    "import os\n",
    "if os.path.isfile(\"private_evaluation.py\"):\n",
    "    from private_evaluation import unit_tests\n",
    "    unit_tests(Huffman_code, LZ_online, LZ77)"
   ]
  },
  {
   "cell_type": "markdown",
   "metadata": {
    "deletable": false,
    "editable": false,
    "id": "znaBCYTG0GU0"
   },
   "source": [
    "## Source coding and reversible (lossless) data compression\n"
   ]
  },
  {
   "cell_type": "code",
   "execution_count": null,
   "metadata": {
    "id": "-F_fTEp10GU0"
   },
   "outputs": [],
   "source": [
    "# Write here your codes for questions 5 to 15 (you may delete this comment)"
   ]
  },
  {
   "cell_type": "markdown",
   "metadata": {
    "id": "arr1rcE65c6K"
   },
   "source": [
    "## Channel coding"
   ]
  },
  {
   "cell_type": "code",
   "execution_count": 10,
   "metadata": {
    "id": "ZLwLdqlh5qE5"
   },
   "outputs": [
    {
     "name": "stdout",
     "output_type": "stream",
     "text": [
      "<PIL.PngImagePlugin.PngImageFile image mode=P size=1984x1116 at 0x7FBD969F5070>\n"
     ]
    },
    {
     "name": "stderr",
     "output_type": "stream",
     "text": [
      "Segmentation fault (core dumped)\n"
     ]
    }
   ],
   "source": [
    "# Write here your codes for questions 16 to 21 (you may delete this comment)\n",
    "# From here, you may import either opencv (cv2) or the Python Imaging Library (PIL), but no other extra libraries.\n",
    "\n",
    "from PIL import Image,ImageOps\n",
    "import sys\n",
    "import numpy as np\n",
    "\n",
    "def read_greyscale_image(path):\n",
    "\n",
    "    img = Image.open(path) \n",
    "    if img is None:\n",
    "        sys.exit(\"Could not read the image.\")\n",
    "\n",
    "    grey_scale = ImageOps.grayscale(img)\n",
    "    grey_scale.show() \n",
    "\n",
    "    return grey_scale\n",
    "\n",
    "def save_image(img,path):\n",
    "    if img is None or path is None:\n",
    "        sys.exit(\"Could not save Image.\")\n",
    "\n",
    "    img.save(path, \"PNG\")\n",
    "\n",
    "    return\n",
    "\n",
    "def encode_image(img):\n",
    "    return np.matrix.flatten(np.unpackbits(np.asarray(img),axis = 1))\n",
    "\n",
    "def decode_image(image_as_bits,shape):\n",
    "    return np.reshape(np.packbits(image_as_bits,axis = 0),shape)\n",
    "\n",
    "def hamming_sequence_encoding(sequence):\n",
    "    #pad the sequence to be a multiple of 4\n",
    "    padding_len = len(sequence) % 4\n",
    "    np.append(sequence,np.zeros(padding_len, dtype=np.int8))\n",
    "\n",
    "    #apply hamming code to every 4 char\n",
    "    hamming_sequence = np.zeros(len(sequence)//4*7,dtype=np.int8)\n",
    "    for i in range(0,len(sequence),4):\n",
    "        code = hamming_code(sequence[i:i+4])\n",
    "\n",
    "        hamming_sequence[((i//4)*7):((i//4)*7)+7] = code\n",
    "\n",
    "    return hamming_sequence\n",
    "\n",
    "def hamming_sequence_decoding(sequence,original_nb_bits):\n",
    "    decoded_sequence = np.zeros(len(sequence)//7 * 4,dtype=np.int8)\n",
    "    nb_corrections = 0 \n",
    "\n",
    "    for i in range(0,len(sequence),7):\n",
    "        decoded_bits = decode_hamming(sequence[i:i+7])\n",
    "        if np.array_equal(decoded_bits, sequence[i:i+4]):\n",
    "            None\n",
    "        else :\n",
    "            nb_corrections += 1\n",
    "\n",
    "        decoded_sequence[(i//7) *4 : ((i//7) * 4) + 4] = decoded_bits\n",
    "        \n",
    "    #remove padding done at source\n",
    "    return decoded_sequence[0:original_nb_bits]\n",
    "\n",
    "def sequence_through_channel(original_sequence):\n",
    "    noisy_sequence = original_sequence\n",
    "\n",
    "    for i, bit in enumerate(noisy_sequence):\n",
    "        noisy_sequence[i] = noisy_channel(bit)\n",
    "\n",
    "    return noisy_sequence\n",
    "\n",
    "def noisy_channel(bit):\n",
    "    if np.random.rand() > 0.01 :\n",
    "        return bit\n",
    "    else:\n",
    "        return (bit + 1) % 2\n",
    "\n",
    "def hamming_code(bits):\n",
    "    if len(bits) != 4:\n",
    "        print('error: wrong number of bits given')\n",
    "        return None\n",
    "\n",
    "    parity = np.zeros(3,dtype=np.int8)\n",
    "    for i in range(len(parity)):\n",
    "        parity[i] = (bits[i%4] + bits[(i+1)%4] + bits[(i+2)%4]) % 2\n",
    "\n",
    "    code = np.append(bits,parity)\n",
    "    return code\n",
    "\n",
    "def decode_hamming(code):\n",
    "    if len(code) != 7:\n",
    "        print('error: wrong number of bits given')\n",
    "        return None\n",
    "\n",
    "    bits = np.copy(code[0:4])\n",
    "    received_parity = code[4:7]\n",
    "    computed_parity = (hamming_code(code[0:4]))[4:7]\n",
    "\n",
    "    syndrome = np.zeros(3,dtype=np.int8)\n",
    "    nb_errors = 0 \n",
    "\n",
    "    for i in range(len(received_parity)):\n",
    "\n",
    "        if(computed_parity[i] != received_parity[i]):\n",
    "            syndrome[i] = 1\n",
    "            nb_errors += 1\n",
    "\n",
    "    if nb_errors == 3:\n",
    "        bits[2] = (code[2] + 1) % 2\n",
    "\n",
    "    if nb_errors == 2:\n",
    "        if syndrome[0] and syndrome[1]:\n",
    "            bits[1] = (code[1] + 1) % 2\n",
    "\n",
    "        if syndrome[1] and syndrome[2]:\n",
    "            bits[3] = (code[3] + 1) % 2\n",
    "\n",
    "        if syndrome[2] and syndrome[0]:\n",
    "            bits[0] = (code[0] + 1) % 2\n",
    "\n",
    "    return bits\n",
    "\n",
    "\n",
    "def number_of_differences(seq1,seq2):\n",
    "    nb_diff = 0\n",
    "    for i in range(len(seq1)):\n",
    "        if seq1[i] != seq2[i]:\n",
    "            nb_diff += 1\n",
    "    \n",
    "    return nb_diff\n",
    "\n",
    "def naive_hamming_seq_decoding(sequence,original_nb_bits):\n",
    "\n",
    "    decoded_sequence = np.zeros(len(sequence)//7 * 4,dtype=np.int8)\n",
    "\n",
    "    for i in range(0,len(sequence),7):\n",
    "        decoded_sequence[(i//7) *4 : ((i//7) * 4) + 4] = sequence[i:i+4]\n",
    "        \n",
    "    #remove padding done at source\n",
    "    return decoded_sequence[0:original_nb_bits]\n",
    "\n",
    "######################################## Code to answer the questions ##############\n",
    "\n",
    "#### 16 :Load image and show ####################\n",
    "\n",
    "original_image = read_greyscale_image(\"image.png\")\n",
    "\n",
    "#### 17 :Encode image using 1byte/pixel #########\n",
    "\n",
    "image_as_sequence = encode_image(original_image)\n",
    "\n",
    "#### 18 :Simulate channel and decode sequence ###\n",
    "im_width, im_height = original_image.size\n",
    "\n",
    "after_channel = decode_image(sequence_through_channel(image_as_sequence),(im_height,im_width))\n",
    "Image.fromarray(after_channel).show()\n",
    "\n",
    "save_image(Image.fromarray(after_channel),'noisy.png')\n",
    "\n",
    "#### 19 :Encode image using Hamming code #########\n",
    "hamming_sequence = hamming_sequence_encoding(image_as_sequence)\n",
    "\n",
    "#### 20 :Simulate channel on Hamming sequence ####\n",
    "hamming_after_channel = sequence_through_channel(hamming_sequence)\n",
    "\n",
    "decoded_hamming = hamming_sequence_decoding(hamming_after_channel,len(image_as_sequence))\n",
    "naive_decoded_hamming = naive_hamming_seq_decoding(hamming_after_channel,len(image_as_sequence))\n",
    "\n",
    "print(\"errors without hamming decoding compared to original image = \" + str(number_of_differences(image_as_sequence, naive_decoded_hamming)))\n",
    "print(\"errors with  hamming decoding compared to original image = \" + str(number_of_differences(image_as_sequence, decoded_hamming)))\n",
    "\n",
    "Image.fromarray(decode_image(decoded_hamming,(im_height,im_width))).show()\n",
    "save_image(Image.fromarray(decode_image(decoded_hamming,(im_height,im_width))),'postHamming_decoded.png')\n",
    "save_image(Image.fromarray(decode_image(naive_decoded_hamming,(im_height,im_width))),'naive_Hamming_decoding.png')\n"
   ]
  }
 ],
 "metadata": {
  "celltoolbar": "Edit Metadata",
  "colab": {
   "collapsed_sections": [],
   "name": "P2 - Notebook.ipynb",
   "provenance": []
  },
  "kernelspec": {
   "display_name": "Python 3",
   "language": "python",
   "name": "python3"
  },
  "language_info": {
   "codemirror_mode": {
    "name": "ipython",
    "version": 3
   },
   "file_extension": ".py",
   "mimetype": "text/x-python",
   "name": "python",
   "nbconvert_exporter": "python",
   "pygments_lexer": "ipython3",
   "version": "3.9.7"
  }
 },
 "nbformat": 4,
 "nbformat_minor": 1
}
